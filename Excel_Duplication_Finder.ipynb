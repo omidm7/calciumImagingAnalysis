{
  "nbformat": 4,
  "nbformat_minor": 0,
  "metadata": {
    "colab": {
      "provenance": [],
      "authorship_tag": "ABX9TyPnHyGcC29EAlOfuLVwDXdV",
      "include_colab_link": true
    },
    "kernelspec": {
      "name": "python3",
      "display_name": "Python 3"
    },
    "language_info": {
      "name": "python"
    }
  },
  "cells": [
    {
      "cell_type": "markdown",
      "metadata": {
        "id": "view-in-github",
        "colab_type": "text"
      },
      "source": [
        "<a href=\"https://colab.research.google.com/github/omidm7/calciumImagingAnalysis/blob/master/Excel_Duplication_Finder.ipynb\" target=\"_parent\"><img src=\"https://colab.research.google.com/assets/colab-badge.svg\" alt=\"Open In Colab\"/></a>"
      ]
    },
    {
      "cell_type": "markdown",
      "metadata": {
        "id": "687bbe0b"
      },
      "source": [
        "# Task\n",
        "Analyze the sheets in the file \"duplicate_data.xlsx\" to identify duplicate cell values, ignoring zero and empty values. Highlight cells with values duplicated within the same sheet in yellow and cells with values duplicated across different sheets in green."
      ]
    },
    {
      "cell_type": "markdown",
      "metadata": {
        "id": "5df077ee"
      },
      "source": [
        "## Load the excel file\n",
        "\n",
        "### Subtask:\n",
        "Read the data from the provided Excel file into a Pandas DataFrame, handling multiple sheets.\n"
      ]
    },
    {
      "cell_type": "markdown",
      "metadata": {
        "id": "8c69375f"
      },
      "source": [
        "**Reasoning**:\n",
        "Import the pandas library and read the Excel file into a dictionary of DataFrames, handling multiple sheets by using `sheet_name=None`.\n",
        "\n"
      ]
    },
    {
      "cell_type": "code",
      "metadata": {
        "id": "c54a96ca"
      },
      "source": [
        "import pandas as pd\n",
        "\n",
        "excel_data = pd.read_excel('/content/miry_practice.xlsx', sheet_name=None)"
      ],
      "execution_count": null,
      "outputs": []
    },
    {
      "cell_type": "markdown",
      "metadata": {
        "id": "4cb3c62d"
      },
      "source": [
        "## Identify intra-sheet duplicates\n",
        "\n",
        "### Subtask:\n",
        "For each sheet, identify cells with duplicate values within that sheet, ignoring zero and empty values. Store the locations (sheet name and cell address) of these duplicates.\n"
      ]
    },
    {
      "cell_type": "markdown",
      "metadata": {
        "id": "238c5066"
      },
      "source": [
        "**Reasoning**:\n",
        "Initialize the dictionary to store intra-sheet duplicates and iterate through each sheet and column to find and store the locations of duplicate values, ignoring zero and empty values.\n",
        "\n"
      ]
    },
    {
      "cell_type": "code",
      "metadata": {
        "id": "1862d0fd"
      },
      "source": [
        "intra_sheet_duplicates = {}\n",
        "\n",
        "for sheet_name, df in excel_data.items():\n",
        "    intra_sheet_duplicates[sheet_name] = []\n",
        "    for col in df.columns:\n",
        "        # Identify duplicated values in the current column, ignoring zero and empty values\n",
        "        duplicated_values = df[col][(df[col].duplicated(keep=False)) & (df[col] != 0) & (df[col].notna())]\n",
        "\n",
        "        # Find all cell addresses for each duplicated value\n",
        "        for value in duplicated_values.unique():\n",
        "            cell_locations = df[(df[col] == value) & (df[col] != 0) & (df[col].notna())].index.tolist()\n",
        "            for row_index in cell_locations:\n",
        "                intra_sheet_duplicates[sheet_name].append(f'{chr(65 + df.columns.get_loc(col))}{row_index + 1}')\n"
      ],
      "execution_count": null,
      "outputs": []
    },
    {
      "cell_type": "markdown",
      "metadata": {
        "id": "4e2e0188"
      },
      "source": [
        "## Identify inter-sheet duplicates\n",
        "\n",
        "### Subtask:\n",
        "Compare the values across all sheets to identify cells with duplicate values in different sheets, ignoring zero and empty values. Store the locations (sheet names and cell addresses) of these duplicates.\n"
      ]
    },
    {
      "cell_type": "markdown",
      "metadata": {
        "id": "84b2ba7d"
      },
      "source": [
        "**Reasoning**:\n",
        "Initialize an empty dictionary, create a list of all values with their locations, iterate through the list to find inter-sheet duplicates, and store the locations of these duplicates in the dictionary.\n",
        "\n"
      ]
    },
    {
      "cell_type": "code",
      "metadata": {
        "id": "23dc74ac"
      },
      "source": [
        "inter_sheet_duplicates = {}\n",
        "all_values_with_locations = []\n",
        "\n",
        "for sheet_name, df in excel_data.items():\n",
        "    for col_index, col in enumerate(df.columns):\n",
        "        for row_index, value in df[col].items():\n",
        "            if pd.notna(value) and value != 0:\n",
        "                all_values_with_locations.append({\n",
        "                    'value': value,\n",
        "                    'sheet': sheet_name,\n",
        "                    'cell': f'{chr(65 + col_index)}{row_index + 1}'\n",
        "                })\n",
        "\n",
        "from collections import defaultdict\n",
        "value_locations = defaultdict(list)\n",
        "for item in all_values_with_locations:\n",
        "    value_locations[item['value']].append({'sheet': item['sheet'], 'cell': item['cell']})\n",
        "\n",
        "inter_sheet_duplicates_raw = {}\n",
        "for value, locations in value_locations.items():\n",
        "    sheets_with_value = set([loc['sheet'] for loc in locations])\n",
        "    if len(sheets_with_value) > 1:\n",
        "        for loc in locations:\n",
        "            if loc['sheet'] not in inter_sheet_duplicates_raw:\n",
        "                inter_sheet_duplicates_raw[loc['sheet']] = []\n",
        "            inter_sheet_duplicates_raw[loc['sheet']].append(loc['cell'])\n",
        "\n",
        "for sheet_name, cell_list in inter_sheet_duplicates_raw.items():\n",
        "    inter_sheet_duplicates[sheet_name] = list(set(cell_list))\n",
        "\n",
        "display(inter_sheet_duplicates)"
      ],
      "execution_count": null,
      "outputs": []
    },
    {
      "cell_type": "markdown",
      "metadata": {
        "id": "19903b07"
      },
      "source": [
        "## Prioritize highlighting\n",
        "\n",
        "### Subtask:\n",
        "Determine which duplicates are both intra-sheet and inter-sheet. Inter-sheet duplicates should be prioritized for green highlighting, and intra-sheet duplicates (that are not inter-sheet duplicates) should be highlighted yellow.\n"
      ]
    },
    {
      "cell_type": "markdown",
      "metadata": {
        "id": "dc40d65d"
      },
      "source": [
        "**Reasoning**:\n",
        "Initialize empty dictionaries and iterate through the intra-sheet duplicates to identify those that are not inter-sheet duplicates, adding them to the highlight_yellow dictionary. Then, iterate through the inter-sheet duplicates and add all of them to the highlight_green dictionary. Finally, remove any cell locations from highlight_yellow that are also in highlight_green.\n",
        "\n"
      ]
    },
    {
      "cell_type": "code",
      "metadata": {
        "id": "fbc929ba"
      },
      "source": [
        "highlight_yellow = {}\n",
        "highlight_green = {}\n",
        "\n",
        "for sheet_name, cell_list in intra_sheet_duplicates.items():\n",
        "    highlight_yellow[sheet_name] = []\n",
        "    for cell in cell_list:\n",
        "        if sheet_name in inter_sheet_duplicates and cell not in inter_sheet_duplicates[sheet_name]:\n",
        "            highlight_yellow[sheet_name].append(cell)\n",
        "        elif sheet_name not in inter_sheet_duplicates:\n",
        "             highlight_yellow[sheet_name].append(cell)\n",
        "\n",
        "\n",
        "for sheet_name, cell_list in inter_sheet_duplicates.items():\n",
        "    highlight_green[sheet_name] = cell_list\n",
        "\n",
        "for sheet_name, cell_list in highlight_green.items():\n",
        "    if sheet_name in highlight_yellow:\n",
        "        highlight_yellow[sheet_name] = [cell for cell in highlight_yellow[sheet_name] if cell not in cell_list]\n",
        "\n",
        "display(highlight_yellow)\n",
        "display(highlight_green)"
      ],
      "execution_count": null,
      "outputs": []
    },
    {
      "cell_type": "markdown",
      "metadata": {
        "id": "4bf54122"
      },
      "source": [
        "## Apply highlighting\n",
        "\n",
        "### Subtask:\n",
        "Create a new Excel file or modify the existing one to apply the specified background colors (yellow for intra-sheet duplicates and green for inter-sheet duplicates) to the identified cells.\n"
      ]
    },
    {
      "cell_type": "markdown",
      "metadata": {
        "id": "55292055"
      },
      "source": [
        "**Reasoning**:\n",
        "Import the openpyxl library and load the existing Excel workbook. Then iterate through the highlight_yellow and highlight_green dictionaries to color the cells accordingly. Finally, save the modified workbook to a new Excel file.\n",
        "\n"
      ]
    },
    {
      "cell_type": "code",
      "metadata": {
        "id": "5198bb53"
      },
      "source": [
        "import openpyxl\n",
        "from openpyxl.styles import PatternFill\n",
        "\n",
        "# Load the existing Excel workbook\n",
        "workbook = openpyxl.load_workbook('/content/miry_practice.xlsx')\n",
        "\n",
        "yellow_fill = PatternFill(start_color='FFFF00', end_color='FFFF00', fill_type='solid')\n",
        "green_fill = PatternFill(start_color='00FF00', end_color='00FF00', fill_type='solid')\n",
        "\n",
        "for sheet_name, cells in highlight_yellow.items():\n",
        "    if sheet_name in workbook.sheetnames:\n",
        "        sheet = workbook[sheet_name]\n",
        "        for cell in cells:\n",
        "            sheet[cell].fill = yellow_fill\n",
        "\n",
        "for sheet_name, cells in highlight_green.items():\n",
        "    if sheet_name in workbook.sheetnames:\n",
        "        sheet = workbook[sheet_name]\n",
        "        for cell in cells:\n",
        "            sheet[cell].fill = green_fill\n",
        "\n",
        "workbook.save('highlighted_duplicates.xlsx')"
      ],
      "execution_count": null,
      "outputs": []
    },
    {
      "cell_type": "markdown",
      "metadata": {
        "id": "94919137"
      },
      "source": [
        "## Summary:\n",
        "\n",
        "### Data Analysis Key Findings\n",
        "\n",
        "*   The analysis identified cells with duplicate values within the same sheet, excluding zeros and empty values.\n",
        "*   The analysis also identified cells with duplicate values across different sheets, excluding zeros and empty values.\n",
        "*   A prioritization was established: cells that were both intra-sheet and inter-sheet duplicates were categorized as inter-sheet duplicates for highlighting purposes.\n",
        "*   A new Excel file named 'highlighted\\_duplicates.xlsx' was created with intra-sheet duplicates (not also inter-sheet) highlighted in yellow and inter-sheet duplicates highlighted in green.\n",
        "\n",
        "### Insights or Next Steps\n",
        "\n",
        "*   The generated 'highlighted\\_duplicates.xlsx' file provides a clear visual representation of duplicate data for review and potential cleaning.\n",
        "*   The identified duplicate locations can be used for further data cleaning steps, such as removing or consolidating duplicate entries.\n"
      ]
    }
  ]
}